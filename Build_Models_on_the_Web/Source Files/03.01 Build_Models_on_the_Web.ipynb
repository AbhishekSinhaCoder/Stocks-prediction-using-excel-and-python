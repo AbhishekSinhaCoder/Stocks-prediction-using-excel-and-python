{
  "nbformat": 4,
  "nbformat_minor": 0,
  "metadata": {
    "colab": {
      "name": "Build Models on the Web.ipynb",
      "provenance": []
    },
    "kernelspec": {
      "name": "python3",
      "display_name": "Python 3"
    }
  },
  "cells": [
    {
      "cell_type": "markdown",
      "metadata": {
        "id": "P-19WDV6Er00",
        "colab_type": "text"
      },
      "source": [
        "https://colab.research.google.com/"
      ]
    },
    {
      "cell_type": "code",
      "metadata": {
        "id": "TDk5jBGJZ0j6",
        "colab_type": "code",
        "colab": {
          "base_uri": "https://localhost:8080/",
          "height": 35
        },
        "outputId": "926f364a-8e6f-4fb5-96d9-3c6ab63a404a"
      },
      "source": [
        "test = \"Hey\"\n",
        "print(\"Hello\")"
      ],
      "execution_count": 7,
      "outputs": [
        {
          "output_type": "stream",
          "text": [
            "Hello\n"
          ],
          "name": "stdout"
        }
      ]
    },
    {
      "cell_type": "code",
      "metadata": {
        "id": "UtnCySDKarQ2",
        "colab_type": "code",
        "colab": {
          "base_uri": "https://localhost:8080/",
          "height": 35
        },
        "outputId": "fc08eff3-c28d-45c8-9b77-fcbfbe4db9c4"
      },
      "source": [
        "print(test)"
      ],
      "execution_count": 8,
      "outputs": [
        {
          "output_type": "stream",
          "text": [
            "Hey\n"
          ],
          "name": "stdout"
        }
      ]
    },
    {
      "cell_type": "markdown",
      "metadata": {
        "id": "4H8qiJpNafqk",
        "colab_type": "text"
      },
      "source": [
        "Helpful notes"
      ]
    },
    {
      "cell_type": "markdown",
      "metadata": {
        "id": "p17BiolcajZ5",
        "colab_type": "text"
      },
      "source": [
        "# New Section"
      ]
    }
  ]
}