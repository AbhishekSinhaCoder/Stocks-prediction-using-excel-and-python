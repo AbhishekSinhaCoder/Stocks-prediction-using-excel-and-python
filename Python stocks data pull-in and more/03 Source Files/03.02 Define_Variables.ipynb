{
  "nbformat": 4,
  "nbformat_minor": 0,
  "metadata": {
    "colab": {
      "name": "Define Variables.ipynb",
      "provenance": []
    },
    "kernelspec": {
      "name": "python3",
      "display_name": "Python 3"
    }
  },
  "cells": [
    {
      "cell_type": "code",
      "metadata": {
        "id": "qTVO4H2IBMJj",
        "colab_type": "code",
        "colab": {
          "base_uri": "https://localhost:8080/",
          "height": 697
        },
        "outputId": "23c202eb-9ad5-41aa-99e3-2bb3db4bc83d"
      },
      "source": [
        "!pip install yfinance\n",
        "\n",
        "import yfinance\n",
        "\n",
        "dataframe = yfinance.download(\"DIS\", \n",
        "                              \"2010-01-01\", \n",
        "                              \"2020-09-01\", \n",
        "                              auto_adjust=True)\n",
        "\n",
        "dataframe = dataframe[[\"Close\"]]\n",
        "\n",
        "dataframe = dataframe.dropna()\n",
        "\n",
        "dataframe"
      ],
      "execution_count": 6,
      "outputs": [
        {
          "output_type": "stream",
          "text": [
            "Requirement already satisfied: yfinance in /usr/local/lib/python3.6/dist-packages (0.1.54)\n",
            "Requirement already satisfied: numpy>=1.15 in /usr/local/lib/python3.6/dist-packages (from yfinance) (1.18.5)\n",
            "Requirement already satisfied: requests>=2.20 in /usr/local/lib/python3.6/dist-packages (from yfinance) (2.23.0)\n",
            "Requirement already satisfied: pandas>=0.24 in /usr/local/lib/python3.6/dist-packages (from yfinance) (1.0.5)\n",
            "Requirement already satisfied: multitasking>=0.0.7 in /usr/local/lib/python3.6/dist-packages (from yfinance) (0.0.9)\n",
            "Requirement already satisfied: urllib3!=1.25.0,!=1.25.1,<1.26,>=1.21.1 in /usr/local/lib/python3.6/dist-packages (from requests>=2.20->yfinance) (1.24.3)\n",
            "Requirement already satisfied: chardet<4,>=3.0.2 in /usr/local/lib/python3.6/dist-packages (from requests>=2.20->yfinance) (3.0.4)\n",
            "Requirement already satisfied: certifi>=2017.4.17 in /usr/local/lib/python3.6/dist-packages (from requests>=2.20->yfinance) (2020.6.20)\n",
            "Requirement already satisfied: idna<3,>=2.5 in /usr/local/lib/python3.6/dist-packages (from requests>=2.20->yfinance) (2.10)\n",
            "Requirement already satisfied: pytz>=2017.2 in /usr/local/lib/python3.6/dist-packages (from pandas>=0.24->yfinance) (2018.9)\n",
            "Requirement already satisfied: python-dateutil>=2.6.1 in /usr/local/lib/python3.6/dist-packages (from pandas>=0.24->yfinance) (2.8.1)\n",
            "Requirement already satisfied: six>=1.5 in /usr/local/lib/python3.6/dist-packages (from python-dateutil>=2.6.1->pandas>=0.24->yfinance) (1.15.0)\n",
            "[*********************100%***********************]  1 of 1 completed\n"
          ],
          "name": "stdout"
        },
        {
          "output_type": "execute_result",
          "data": {
            "text/html": [
              "<div>\n",
              "<style scoped>\n",
              "    .dataframe tbody tr th:only-of-type {\n",
              "        vertical-align: middle;\n",
              "    }\n",
              "\n",
              "    .dataframe tbody tr th {\n",
              "        vertical-align: top;\n",
              "    }\n",
              "\n",
              "    .dataframe thead th {\n",
              "        text-align: right;\n",
              "    }\n",
              "</style>\n",
              "<table border=\"1\" class=\"dataframe\">\n",
              "  <thead>\n",
              "    <tr style=\"text-align: right;\">\n",
              "      <th></th>\n",
              "      <th>Close</th>\n",
              "    </tr>\n",
              "    <tr>\n",
              "      <th>Date</th>\n",
              "      <th></th>\n",
              "    </tr>\n",
              "  </thead>\n",
              "  <tbody>\n",
              "    <tr>\n",
              "      <th>2010-01-04</th>\n",
              "      <td>27.933924</td>\n",
              "    </tr>\n",
              "    <tr>\n",
              "      <th>2010-01-05</th>\n",
              "      <td>27.864237</td>\n",
              "    </tr>\n",
              "    <tr>\n",
              "      <th>2010-01-06</th>\n",
              "      <td>27.716166</td>\n",
              "    </tr>\n",
              "    <tr>\n",
              "      <th>2010-01-07</th>\n",
              "      <td>27.724878</td>\n",
              "    </tr>\n",
              "    <tr>\n",
              "      <th>2010-01-08</th>\n",
              "      <td>27.768419</td>\n",
              "    </tr>\n",
              "    <tr>\n",
              "      <th>...</th>\n",
              "      <td>...</td>\n",
              "    </tr>\n",
              "    <tr>\n",
              "      <th>2020-08-25</th>\n",
              "      <td>129.789993</td>\n",
              "    </tr>\n",
              "    <tr>\n",
              "      <th>2020-08-26</th>\n",
              "      <td>132.179993</td>\n",
              "    </tr>\n",
              "    <tr>\n",
              "      <th>2020-08-27</th>\n",
              "      <td>133.729996</td>\n",
              "    </tr>\n",
              "    <tr>\n",
              "      <th>2020-08-28</th>\n",
              "      <td>135.539993</td>\n",
              "    </tr>\n",
              "    <tr>\n",
              "      <th>2020-08-31</th>\n",
              "      <td>131.869995</td>\n",
              "    </tr>\n",
              "  </tbody>\n",
              "</table>\n",
              "<p>2684 rows × 1 columns</p>\n",
              "</div>"
            ],
            "text/plain": [
              "                 Close\n",
              "Date                  \n",
              "2010-01-04   27.933924\n",
              "2010-01-05   27.864237\n",
              "2010-01-06   27.716166\n",
              "2010-01-07   27.724878\n",
              "2010-01-08   27.768419\n",
              "...                ...\n",
              "2020-08-25  129.789993\n",
              "2020-08-26  132.179993\n",
              "2020-08-27  133.729996\n",
              "2020-08-28  135.539993\n",
              "2020-08-31  131.869995\n",
              "\n",
              "[2684 rows x 1 columns]"
            ]
          },
          "metadata": {
            "tags": []
          },
          "execution_count": 6
        }
      ]
    },
    {
      "cell_type": "code",
      "metadata": {
        "id": "Fz4ZeAWFEvrW",
        "colab_type": "code",
        "colab": {
          "base_uri": "https://localhost:8080/",
          "height": 351
        },
        "outputId": "23372f50-443d-4534-c773-7d5ce5c20cbe"
      },
      "source": [
        "import matplotlib.pyplot as pyplot\n",
        "\n",
        "dataframe.Close.plot(figsize = (8, 5), \n",
        "                     color   = \"b\")\n",
        "\n",
        "pyplot.ylabel(\"Disney Stock Value\")\n",
        "\n",
        "pyplot.title(\"Disney Stock - 2010-2020\")"
      ],
      "execution_count": 9,
      "outputs": [
        {
          "output_type": "execute_result",
          "data": {
            "text/plain": [
              "Text(0.5, 1.0, 'Disney Stock - 2010-2020')"
            ]
          },
          "metadata": {
            "tags": []
          },
          "execution_count": 9
        },
        {
          "output_type": "display_data",
          "data": {
            "image/png": "[encoded data removed]",
            "text/plain": [
              "<Figure size 576x360 with 1 Axes>"
            ]
          },
          "metadata": {
            "tags": [],
            "needs_background": "light"
          }
        }
      ]
    },
    {
      "cell_type": "code",
      "metadata": {
        "id": "s0VOinm8IpGY",
        "colab_type": "code",
        "colab": {
          "base_uri": "https://localhost:8080/",
          "height": 244
        },
        "outputId": "0b3192f0-64f5-4914-ab29-9e6d84e6ebd2"
      },
      "source": [
        "dataframe[\"five_days_moving_average\"]   = dataframe[\"Close\"].rolling(window=5).mean()\n",
        "\n",
        "dataframe[\"twenty_days_moving_average\"] = dataframe[\"Close\"].rolling(window=20).mean()\n",
        "\n",
        "dataframe = dataframe.dropna()\n",
        "\n",
        "X = dataframe[[\"five_days_moving_average\", \n",
        "               \"twenty_days_moving_average\"]]\n",
        "\n",
        "dataframe[\"value_next_day\"]             = dataframe[\"Close\"].shift(-1)\n",
        "\n",
        "dataframe = dataframe.dropna()\n",
        "\n",
        "Y = dataframe[\"value_next_day\"]\n",
        "\n",
        "Y"
      ],
      "execution_count": 14,
      "outputs": [
        {
          "output_type": "execute_result",
          "data": {
            "text/plain": [
              "Date\n",
              "2010-03-26     30.625399\n",
              "2010-03-29     30.573137\n",
              "2010-03-30     30.407646\n",
              "2010-03-31     30.965105\n",
              "2010-04-01     30.677666\n",
              "                 ...    \n",
              "2020-08-19    128.119995\n",
              "2020-08-20    127.440002\n",
              "2020-08-21    130.690002\n",
              "2020-08-24    129.789993\n",
              "2020-08-25    132.179993\n",
              "Name: value_next_day, Length: 2623, dtype: float64"
            ]
          },
          "metadata": {
            "tags": []
          },
          "execution_count": 14
        }
      ]
    }
  ]
}