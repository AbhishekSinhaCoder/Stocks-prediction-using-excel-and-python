{
  "nbformat": 4,
  "nbformat_minor": 0,
  "metadata": {
    "colab": {
      "name": "Predict To Buy or To Sell.ipynb",
      "provenance": [],
      "collapsed_sections": []
    },
    "kernelspec": {
      "name": "python3",
      "display_name": "Python 3"
    }
  },
  "cells": [
    {
      "cell_type": "code",
      "metadata": {
        "id": "qTVO4H2IBMJj",
        "colab_type": "code",
        "colab": {
          "base_uri": "https://localhost:8080/",
          "height": 697
        },
        "outputId": "acc700e7-f816-4efc-8a33-6a1e5c02e699"
      },
      "source": [
        "!pip install yfinance\n",
        "\n",
        "import yfinance\n",
        "\n",
        "dataframe = yfinance.download(\"DIS\", \n",
        "                              \"2010-01-01\", \n",
        "                              \"2020-09-01\", \n",
        "                              auto_adjust=True)\n",
        "\n",
        "dataframe = dataframe[[\"Close\"]]\n",
        "\n",
        "dataframe = dataframe.dropna()\n",
        "\n",
        "dataframe"
      ],
      "execution_count": 11,
      "outputs": [
        {
          "output_type": "stream",
          "text": [
            "Requirement already satisfied: yfinance in /usr/local/lib/python3.6/dist-packages (0.1.54)\n",
            "Requirement already satisfied: numpy>=1.15 in /usr/local/lib/python3.6/dist-packages (from yfinance) (1.18.5)\n",
            "Requirement already satisfied: pandas>=0.24 in /usr/local/lib/python3.6/dist-packages (from yfinance) (1.0.5)\n",
            "Requirement already satisfied: multitasking>=0.0.7 in /usr/local/lib/python3.6/dist-packages (from yfinance) (0.0.9)\n",
            "Requirement already satisfied: requests>=2.20 in /usr/local/lib/python3.6/dist-packages (from yfinance) (2.23.0)\n",
            "Requirement already satisfied: python-dateutil>=2.6.1 in /usr/local/lib/python3.6/dist-packages (from pandas>=0.24->yfinance) (2.8.1)\n",
            "Requirement already satisfied: pytz>=2017.2 in /usr/local/lib/python3.6/dist-packages (from pandas>=0.24->yfinance) (2018.9)\n",
            "Requirement already satisfied: chardet<4,>=3.0.2 in /usr/local/lib/python3.6/dist-packages (from requests>=2.20->yfinance) (3.0.4)\n",
            "Requirement already satisfied: certifi>=2017.4.17 in /usr/local/lib/python3.6/dist-packages (from requests>=2.20->yfinance) (2020.6.20)\n",
            "Requirement already satisfied: urllib3!=1.25.0,!=1.25.1,<1.26,>=1.21.1 in /usr/local/lib/python3.6/dist-packages (from requests>=2.20->yfinance) (1.24.3)\n",
            "Requirement already satisfied: idna<3,>=2.5 in /usr/local/lib/python3.6/dist-packages (from requests>=2.20->yfinance) (2.10)\n",
            "Requirement already satisfied: six>=1.5 in /usr/local/lib/python3.6/dist-packages (from python-dateutil>=2.6.1->pandas>=0.24->yfinance) (1.15.0)\n",
            "[*********************100%***********************]  1 of 1 completed\n"
          ],
          "name": "stdout"
        },
        {
          "output_type": "execute_result",
          "data": {
            "text/html": [
              "<div>\n",
              "<style scoped>\n",
              "    .dataframe tbody tr th:only-of-type {\n",
              "        vertical-align: middle;\n",
              "    }\n",
              "\n",
              "    .dataframe tbody tr th {\n",
              "        vertical-align: top;\n",
              "    }\n",
              "\n",
              "    .dataframe thead th {\n",
              "        text-align: right;\n",
              "    }\n",
              "</style>\n",
              "<table border=\"1\" class=\"dataframe\">\n",
              "  <thead>\n",
              "    <tr style=\"text-align: right;\">\n",
              "      <th></th>\n",
              "      <th>Close</th>\n",
              "    </tr>\n",
              "    <tr>\n",
              "      <th>Date</th>\n",
              "      <th></th>\n",
              "    </tr>\n",
              "  </thead>\n",
              "  <tbody>\n",
              "    <tr>\n",
              "      <th>2010-01-04</th>\n",
              "      <td>27.933924</td>\n",
              "    </tr>\n",
              "    <tr>\n",
              "      <th>2010-01-05</th>\n",
              "      <td>27.864237</td>\n",
              "    </tr>\n",
              "    <tr>\n",
              "      <th>2010-01-06</th>\n",
              "      <td>27.716166</td>\n",
              "    </tr>\n",
              "    <tr>\n",
              "      <th>2010-01-07</th>\n",
              "      <td>27.724878</td>\n",
              "    </tr>\n",
              "    <tr>\n",
              "      <th>2010-01-08</th>\n",
              "      <td>27.768419</td>\n",
              "    </tr>\n",
              "    <tr>\n",
              "      <th>...</th>\n",
              "      <td>...</td>\n",
              "    </tr>\n",
              "    <tr>\n",
              "      <th>2020-08-25</th>\n",
              "      <td>129.789993</td>\n",
              "    </tr>\n",
              "    <tr>\n",
              "      <th>2020-08-26</th>\n",
              "      <td>132.179993</td>\n",
              "    </tr>\n",
              "    <tr>\n",
              "      <th>2020-08-27</th>\n",
              "      <td>133.729996</td>\n",
              "    </tr>\n",
              "    <tr>\n",
              "      <th>2020-08-28</th>\n",
              "      <td>135.539993</td>\n",
              "    </tr>\n",
              "    <tr>\n",
              "      <th>2020-08-31</th>\n",
              "      <td>131.869995</td>\n",
              "    </tr>\n",
              "  </tbody>\n",
              "</table>\n",
              "<p>2684 rows × 1 columns</p>\n",
              "</div>"
            ],
            "text/plain": [
              "                 Close\n",
              "Date                  \n",
              "2010-01-04   27.933924\n",
              "2010-01-05   27.864237\n",
              "2010-01-06   27.716166\n",
              "2010-01-07   27.724878\n",
              "2010-01-08   27.768419\n",
              "...                ...\n",
              "2020-08-25  129.789993\n",
              "2020-08-26  132.179993\n",
              "2020-08-27  133.729996\n",
              "2020-08-28  135.539993\n",
              "2020-08-31  131.869995\n",
              "\n",
              "[2684 rows x 1 columns]"
            ]
          },
          "metadata": {
            "tags": []
          },
          "execution_count": 11
        }
      ]
    },
    {
      "cell_type": "code",
      "metadata": {
        "id": "Fz4ZeAWFEvrW",
        "colab_type": "code",
        "colab": {
          "base_uri": "https://localhost:8080/",
          "height": 351
        },
        "outputId": "f9717e8f-7f3d-450a-8e23-bd0b76a5f417"
      },
      "source": [
        "import matplotlib.pyplot as pyplot\n",
        "\n",
        "dataframe.Close.plot(figsize = (8, 5), \n",
        "                     color   = \"b\")\n",
        "\n",
        "pyplot.ylabel(\"Disney Stock Value\")\n",
        "\n",
        "pyplot.title(\"Disney Stock - 2010-2020\")"
      ],
      "execution_count": 12,
      "outputs": [
        {
          "output_type": "execute_result",
          "data": {
            "text/plain": [
              "Text(0.5, 1.0, 'Disney Stock - 2010-2020')"
            ]
          },
          "metadata": {
            "tags": []
          },
          "execution_count": 12
        },
        {
          "output_type": "display_data",
          "data": {
            "image/png": "[encoded data removed]",
            "text/plain": [
              "<Figure size 576x360 with 1 Axes>"
            ]
          },
          "metadata": {
            "tags": [],
            "needs_background": "light"
          }
        }
      ]
    },
    {
      "cell_type": "code",
      "metadata": {
        "id": "s0VOinm8IpGY",
        "colab_type": "code",
        "colab": {
          "base_uri": "https://localhost:8080/",
          "height": 369
        },
        "outputId": "9f0d3d33-02da-4398-fbf0-1b80bc9d25ce"
      },
      "source": [
        "dataframe[\"five_days_moving_average\"]   = dataframe[\"Close\"].rolling(window=5).mean()\n",
        "\n",
        "dataframe[\"twenty_days_moving_average\"] = dataframe[\"Close\"].rolling(window=20).mean()\n",
        "\n",
        "dataframe = dataframe.dropna()\n",
        "\n",
        "X = dataframe[[\"five_days_moving_average\", \n",
        "               \"twenty_days_moving_average\"]]\n",
        "\n",
        "dataframe[\"value_next_day\"]             = dataframe[\"Close\"].shift(-1)\n",
        "\n",
        "dataframe = dataframe.dropna()\n",
        "\n",
        "y = dataframe[\"value_next_day\"]\n",
        "\n",
        "y"
      ],
      "execution_count": 13,
      "outputs": [
        {
          "output_type": "stream",
          "text": [
            "/usr/local/lib/python3.6/dist-packages/ipykernel_launcher.py:10: SettingWithCopyWarning: \n",
            "A value is trying to be set on a copy of a slice from a DataFrame.\n",
            "Try using .loc[row_indexer,col_indexer] = value instead\n",
            "\n",
            "See the caveats in the documentation: https://pandas.pydata.org/pandas-docs/stable/user_guide/indexing.html#returning-a-view-versus-a-copy\n",
            "  # Remove the CWD from sys.path while we load stuff.\n"
          ],
          "name": "stderr"
        },
        {
          "output_type": "execute_result",
          "data": {
            "text/plain": [
              "Date\n",
              "2010-02-01     26.113466\n",
              "2010-02-02     26.784159\n",
              "2010-02-03     25.843452\n",
              "2010-02-04     25.730217\n",
              "2010-02-05     25.677956\n",
              "                 ...    \n",
              "2020-08-24    129.789993\n",
              "2020-08-25    132.179993\n",
              "2020-08-26    133.729996\n",
              "2020-08-27    135.539993\n",
              "2020-08-28    131.869995\n",
              "Name: value_next_day, Length: 2664, dtype: float64"
            ]
          },
          "metadata": {
            "tags": []
          },
          "execution_count": 13
        }
      ]
    },
    {
      "cell_type": "code",
      "metadata": {
        "id": "fngFF4f8Vt4L",
        "colab_type": "code",
        "colab": {}
      },
      "source": [
        "split_index = 0.8\n",
        "\n",
        "split_index = split_index * len(dataframe)\n",
        "\n",
        "split_index = int(split_index) \n",
        "\n",
        "X_train = X[:split_index]\n",
        "y_train = y[:split_index]\n",
        "\n",
        "X_test  = X[split_index:]\n",
        "y_test  = y[split_index:] "
      ],
      "execution_count": 14,
      "outputs": []
    },
    {
      "cell_type": "code",
      "metadata": {
        "id": "gyQvyMIebHte",
        "colab_type": "code",
        "colab": {
          "base_uri": "https://localhost:8080/",
          "height": 69
        },
        "outputId": "0d12677b-e988-4471-f884-661280cdf14b"
      },
      "source": [
        "from sklearn.linear_model import LinearRegression\n",
        "\n",
        "model = LinearRegression()\n",
        "\n",
        "model = model.fit(X_train, \n",
        "                  y_train)\n",
        "\n",
        "five_day_moving_average   = model.coef_[0]\n",
        "\n",
        "twenty_day_moving_average = model.coef_[1]\n",
        "\n",
        "print(five_day_moving_average)\n",
        "print(twenty_day_moving_average)\n",
        "\n",
        "constant = model.intercept_\n",
        "\n",
        "print(constant)"
      ],
      "execution_count": 15,
      "outputs": [
        {
          "output_type": "stream",
          "text": [
            "1.1527716937153407\n",
            "-0.1539653241539895\n",
            "0.15779330562186544\n"
          ],
          "name": "stdout"
        }
      ]
    },
    {
      "cell_type": "code",
      "metadata": {
        "id": "jstBdkCgk6Vd",
        "colab_type": "code",
        "colab": {
          "base_uri": "https://localhost:8080/",
          "height": 294
        },
        "outputId": "13307356-3ce4-4549-ef38-316eb4e5fc21"
      },
      "source": [
        "test_output = model.predict(X_test)\n",
        "\n",
        "import pandas\n",
        "\n",
        "y_test = y[(split_index - 1):]\n",
        "\n",
        "test_output = pandas.DataFrame(test_output,\n",
        "                              index = y_test.index,\n",
        "                              columns = [\"value\"])\n",
        "\n",
        "test_output.plot()\n",
        "\n",
        "y_test.plot()\n",
        "\n",
        "pyplot.legend([\"model output\",\n",
        "               \"actual value\"])\n",
        "\n",
        "pyplot.ylabel(\"Disney Stock Value\")"
      ],
      "execution_count": 16,
      "outputs": [
        {
          "output_type": "execute_result",
          "data": {
            "text/plain": [
              "Text(0, 0.5, 'Disney Stock Value')"
            ]
          },
          "metadata": {
            "tags": []
          },
          "execution_count": 16
        },
        {
          "output_type": "display_data",
          "data": {
            "image/png": "[encoded data removed]",
            "text/plain": [
              "<Figure size 432x288 with 1 Axes>"
            ]
          },
          "metadata": {
            "tags": [],
            "needs_background": "light"
          }
        }
      ]
    },
    {
      "cell_type": "code",
      "metadata": {
        "id": "Oqh4iPD906VC",
        "colab_type": "code",
        "colab": {
          "base_uri": "https://localhost:8080/",
          "height": 34
        },
        "outputId": "eb56d5be-e74c-4777-8868-bb8405ff5b15"
      },
      "source": [
        "score = model.score(X[split_index:],\n",
        "                    y[(split_index - 1):])\n",
        "\n",
        "score = score * 100\n",
        "\n",
        "print(score)"
      ],
      "execution_count": 17,
      "outputs": [
        {
          "output_type": "stream",
          "text": [
            "97.4151561109521\n"
          ],
          "name": "stdout"
        }
      ]
    },
    {
      "cell_type": "code",
      "metadata": {
        "id": "wX8rsu7Z2A9_",
        "colab_type": "code",
        "colab": {
          "base_uri": "https://localhost:8080/",
          "height": 343
        },
        "outputId": "6bf3c41f-0148-46e5-ace4-567cbe0b415b"
      },
      "source": [
        "stock = pandas.DataFrame()\n",
        "\n",
        "stock[\"value\"] = dataframe[split_index:][\"Close\"]\n",
        "\n",
        "stock[\"predicted_tomorrow\"] = test_output\n",
        "\n",
        "stock[\"actual_tomorrow\"] = y_test\n",
        "\n",
        "stock[\"returns\"] = stock[\"value\"].pct_change().shift(-1)\n",
        "\n",
        "import numpy\n",
        "\n",
        "stock[\"strategy\"] = numpy.where(stock.predicted_tomorrow.shift(1) < stock.predicted_tomorrow,\n",
        "                                1,\n",
        "                                0)\n",
        "\n",
        "stock[\"strategy_returns\"] = stock.strategy * stock[\"returns\"]\n",
        "\n",
        "cumulative_product = (stock[\"strategy_returns\"] + 1).cumprod()\n",
        "\n",
        "cumulative_product.plot(figsize = (8, 5))\n",
        "\n",
        "pyplot.ylabel(\"Cumulative Returns\")"
      ],
      "execution_count": 18,
      "outputs": [
        {
          "output_type": "execute_result",
          "data": {
            "text/plain": [
              "Text(0, 0.5, 'Cumulative Returns')"
            ]
          },
          "metadata": {
            "tags": []
          },
          "execution_count": 18
        },
        {
          "output_type": "display_data",
          "data": {
            "image/png": "[encoded data removed]",
            "text/plain": [
              "<Figure size 576x360 with 1 Axes>"
            ]
          },
          "metadata": {
            "tags": [],
            "needs_background": "light"
          }
        }
      ]
    },
    {
      "cell_type": "code",
      "metadata": {
        "id": "4r_l0psP_lgx",
        "colab_type": "code",
        "colab": {
          "base_uri": "https://localhost:8080/",
          "height": 737
        },
        "outputId": "e27bf8bd-3938-4dba-ca76-436871f71a69"
      },
      "source": [
        "dataset = yfinance.download(\"DIS\",\n",
        "                            \"2010-01-01\",\n",
        "                            \"2020-09-01\",\n",
        "                            auto_adjust = True)\n",
        "\n",
        "dataset[\"five_day_average\"]   = dataset[\"Close\"].rolling(window = 5).mean()\n",
        "\n",
        "dataset[\"twenty_day_average\"] = dataset[\"Close\"].rolling(window = 20).mean()\n",
        "\n",
        "dataset = dataset.dropna()\n",
        "\n",
        "dataset[\"predicted_stock_value\"] = model.predict(dataset[[\"five_day_average\",\n",
        "                                                       \"twenty_day_average\"]])\n",
        "\n",
        "dataset[\"strategy\"] = numpy.where(dataset.predicted_stock_value.shift(1) < dataset.predicted_stock_value,\n",
        "                                 \"Buy\",\n",
        "                                 \"Hold/Sell\")\n",
        "\n",
        "print(dataset)"
      ],
      "execution_count": 25,
      "outputs": [
        {
          "output_type": "stream",
          "text": [
            "\r[*********************100%***********************]  1 of 1 completed\n",
            "Date\n",
            "2010-02-01     25.712797\n",
            "2010-02-02     26.113466\n",
            "2010-02-03     26.784159\n",
            "2010-02-04     25.843452\n",
            "2010-02-05     25.730217\n",
            "                 ...    \n",
            "2020-08-25    129.789993\n",
            "2020-08-26    132.179993\n",
            "2020-08-27    133.729996\n",
            "2020-08-28    135.539993\n",
            "2020-08-31    131.869995\n",
            "Name: Close, Length: 2665, dtype: float64\n",
            "                  Open        High  ...  predicted_stock_value   strategy\n",
            "Date                                ...                                  \n",
            "2010-02-01   25.782479   25.930555  ...              25.636191  Hold/Sell\n",
            "2010-02-02   25.721504   26.139598  ...              25.714466        Buy\n",
            "2010-02-03   26.061204   26.888683  ...              26.009951        Buy\n",
            "2010-02-04   26.374781   26.557697  ...              26.088630        Buy\n",
            "2010-02-05   25.808608   25.991525  ...              26.101978        Buy\n",
            "...                ...         ...  ...                    ...        ...\n",
            "2020-08-25  130.830002  131.089996  ...             129.153859        Buy\n",
            "2020-08-26  130.000000  132.600006  ...             130.043042        Buy\n",
            "2020-08-27  133.000000  136.360001  ...             131.197344        Buy\n",
            "2020-08-28  134.500000  136.800003  ...             132.921645        Buy\n",
            "2020-08-31  135.250000  135.539993  ...             133.074220        Buy\n",
            "\n",
            "[2665 rows x 9 columns]\n"
          ],
          "name": "stdout"
        },
        {
          "output_type": "stream",
          "text": [
            "/usr/local/lib/python3.6/dist-packages/ipykernel_launcher.py:13: SettingWithCopyWarning: \n",
            "A value is trying to be set on a copy of a slice from a DataFrame.\n",
            "Try using .loc[row_indexer,col_indexer] = value instead\n",
            "\n",
            "See the caveats in the documentation: https://pandas.pydata.org/pandas-docs/stable/user_guide/indexing.html#returning-a-view-versus-a-copy\n",
            "  del sys.path[0]\n",
            "/usr/local/lib/python3.6/dist-packages/ipykernel_launcher.py:17: SettingWithCopyWarning: \n",
            "A value is trying to be set on a copy of a slice from a DataFrame.\n",
            "Try using .loc[row_indexer,col_indexer] = value instead\n",
            "\n",
            "See the caveats in the documentation: https://pandas.pydata.org/pandas-docs/stable/user_guide/indexing.html#returning-a-view-versus-a-copy\n"
          ],
          "name": "stderr"
        }
      ]
    }
  ]
}